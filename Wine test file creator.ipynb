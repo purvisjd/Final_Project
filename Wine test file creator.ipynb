{
 "cells": [
  {
   "cell_type": "markdown",
   "id": "d343755c",
   "metadata": {},
   "source": [
    "# Additional white and red wine sample set creation code.  Using random number generators, create values for each of the identified features and then creating combined sample file"
   ]
  },
  {
   "cell_type": "code",
   "execution_count": 1,
   "id": "b4035e78",
   "metadata": {},
   "outputs": [],
   "source": [
    "#import necessary libraries\n",
    "import pandas as pd\n",
    "import random"
   ]
  },
  {
   "cell_type": "markdown",
   "id": "82355a65",
   "metadata": {},
   "source": [
    "# Create red wine file"
   ]
  },
  {
   "cell_type": "code",
   "execution_count": 2,
   "id": "ae5acf3b",
   "metadata": {},
   "outputs": [
    {
     "data": {
      "text/plain": [
       "[11.1, 11.2, 6.5, 9.2, 8.5, 6.0, 10.8, 6.2, 10.9, 5.3]"
      ]
     },
     "execution_count": 2,
     "metadata": {},
     "output_type": "execute_result"
    }
   ],
   "source": [
    "#create fixed acidity values\n",
    "fixed_acidity = []\n",
    "for x in range(10):\n",
    "    value = round(random.uniform(5.2, 12.6), 1)\n",
    "    fixed_acidity.append(value)\n",
    "\n",
    "fixed_acidity"
   ]
  },
  {
   "cell_type": "code",
   "execution_count": 3,
   "id": "c95883ea",
   "metadata": {},
   "outputs": [
    {
     "data": {
      "text/plain": [
       "[0.793, 0.301, 0.52, 0.749, 0.194, 0.748, 0.636, 0.632, 0.669, 0.563]"
      ]
     },
     "execution_count": 3,
     "metadata": {},
     "output_type": "execute_result"
    }
   ],
   "source": [
    "#create volatile_acidity values\n",
    "volatile_acidity = []\n",
    "for x in range(10):\n",
    "    value = round(random.uniform(.16, .86), 3)\n",
    "    volatile_acidity.append(value)\n",
    "    \n",
    "volatile_acidity"
   ]
  },
  {
   "cell_type": "code",
   "execution_count": 4,
   "id": "c9765907",
   "metadata": {},
   "outputs": [
    {
     "data": {
      "text/plain": [
       "[0.4, 0.52, 0.01, 0.22, 0.26, 0.36, 0.14, 0.88, 0.55, 0.89]"
      ]
     },
     "execution_count": 4,
     "metadata": {},
     "output_type": "execute_result"
    }
   ],
   "source": [
    "#create citric_acid values\n",
    "citric_acid = []\n",
    "for x in range(10):\n",
    "    value = round(random.uniform(0, .9),2)\n",
    "    citric_acid.append(value)\n",
    "\n",
    "citric_acid"
   ]
  },
  {
   "cell_type": "code",
   "execution_count": 5,
   "id": "4db44cc7",
   "metadata": {},
   "outputs": [
    {
     "data": {
      "text/plain": [
       "[2.4, 8.8, 4.1, 2.5, 7.4, 6.5, 9.5, 2.7, 4.2, 7.4]"
      ]
     },
     "execution_count": 5,
     "metadata": {},
     "output_type": "execute_result"
    }
   ],
   "source": [
    "#create residual_sugar values\n",
    "residual_sugar = []\n",
    "for x in range(10):\n",
    "    value = round(random.uniform(1.1, 10.6),1)\n",
    "    residual_sugar.append(value)\n",
    "\n",
    "residual_sugar"
   ]
  },
  {
   "cell_type": "code",
   "execution_count": 6,
   "id": "1bd8cb8f",
   "metadata": {},
   "outputs": [
    {
     "data": {
      "text/plain": [
       "[0.088, 0.044, 0.049, 0.049, 0.063, 0.063, 0.084, 0.085, 0.059, 0.038]"
      ]
     },
     "execution_count": 6,
     "metadata": {},
     "output_type": "execute_result"
    }
   ],
   "source": [
    "#create chlorides values\n",
    "chlorides = []\n",
    "for x in range(10):\n",
    "    value = round(random.uniform(0.01, 0.09),3)\n",
    "    chlorides.append(value)\n",
    "\n",
    "chlorides"
   ]
  },
  {
   "cell_type": "code",
   "execution_count": 7,
   "id": "1d948ea9",
   "metadata": {},
   "outputs": [
    {
     "data": {
      "text/plain": [
       "[7, 14, 16, 9, 32, 29, 15, 18, 24, 31]"
      ]
     },
     "execution_count": 7,
     "metadata": {},
     "output_type": "execute_result"
    }
   ],
   "source": [
    "#create free_sulfur_dioxide values\n",
    "free_sulfur_dioxide = []\n",
    "for x in range(10):\n",
    "    value = round(random.uniform(5,35))\n",
    "    free_sulfur_dioxide.append(value)\n",
    "\n",
    "free_sulfur_dioxide"
   ]
  },
  {
   "cell_type": "code",
   "execution_count": 8,
   "id": "c933b726",
   "metadata": {},
   "outputs": [
    {
     "data": {
      "text/plain": [
       "[84, 95, 137, 23, 145, 106, 128, 58, 179, 68]"
      ]
     },
     "execution_count": 8,
     "metadata": {},
     "output_type": "execute_result"
    }
   ],
   "source": [
    "#create total_sulfur_dioxide values\n",
    "total_sulfur_dioxide = []\n",
    "for x in range(10):\n",
    "    value = round(random.uniform(13, 180))\n",
    "    total_sulfur_dioxide.append(value)\n",
    "\n",
    "total_sulfur_dioxide"
   ]
  },
  {
   "cell_type": "code",
   "execution_count": 9,
   "id": "c7c20c2f",
   "metadata": {},
   "outputs": [
    {
     "data": {
      "text/plain": [
       "[0.9968,\n",
       " 0.9968,\n",
       " 0.9988,\n",
       " 0.9959,\n",
       " 0.9994,\n",
       " 0.9965,\n",
       " 0.9983,\n",
       " 0.9957,\n",
       " 0.9995,\n",
       " 0.9974]"
      ]
     },
     "execution_count": 9,
     "metadata": {},
     "output_type": "execute_result"
    }
   ],
   "source": [
    "#create density values\n",
    "density = []\n",
    "for x in range(10):\n",
    "    value = round(random.uniform(0.995, 1),4)\n",
    "    density.append(value)\n",
    "density"
   ]
  },
  {
   "cell_type": "code",
   "execution_count": 10,
   "id": "509153a3",
   "metadata": {},
   "outputs": [
    {
     "data": {
      "text/plain": [
       "[3.71, 3.02, 3.68, 3.13, 3.36, 3.87, 3.58, 3.99, 3.41, 3.98]"
      ]
     },
     "execution_count": 10,
     "metadata": {},
     "output_type": "execute_result"
    }
   ],
   "source": [
    "#create pH values\n",
    "pH = []\n",
    "for x in range(10):\n",
    "    value = round(random.uniform(2.88, 4),2)\n",
    "    pH.append(value)\n",
    "pH"
   ]
  },
  {
   "cell_type": "code",
   "execution_count": 11,
   "id": "73106fc7",
   "metadata": {},
   "outputs": [
    {
     "data": {
      "text/plain": [
       "[0.87, 1.15, 0.64, 0.8, 0.89, 0.82, 0.81, 0.78, 0.76, 0.53]"
      ]
     },
     "execution_count": 11,
     "metadata": {},
     "output_type": "execute_result"
    }
   ],
   "source": [
    "#create sulphates values\n",
    "sulphates = []\n",
    "for x in range(10):\n",
    "    value = round(random.uniform(.5, 1.2),2)\n",
    "    sulphates.append(value)\n",
    "sulphates"
   ]
  },
  {
   "cell_type": "code",
   "execution_count": 12,
   "id": "ca880808",
   "metadata": {},
   "outputs": [
    {
     "data": {
      "text/plain": [
       "[10.0, 10.0, 11.7, 9.2, 12.1, 10.9, 12.2, 10.6, 10.5, 13.4]"
      ]
     },
     "execution_count": 12,
     "metadata": {},
     "output_type": "execute_result"
    }
   ],
   "source": [
    "#create alcohol values\n",
    "alcohol = []\n",
    "for x in range(10):\n",
    "    value = round(random.uniform(9.1, 13.5),1)\n",
    "    alcohol.append(value)\n",
    "\n",
    "alcohol"
   ]
  },
  {
   "cell_type": "markdown",
   "id": "2906c4f4",
   "metadata": {},
   "source": [
    "## Create red wine dataframe and append calculated fields"
   ]
  },
  {
   "cell_type": "code",
   "execution_count": 13,
   "id": "9855d991",
   "metadata": {},
   "outputs": [],
   "source": [
    "#create blank dataframe\n",
    "red_df = pd.DataFrame()\n",
    "\n",
    "#create wine_id and color attributes\n",
    "wine_id = ['w001', 'w002','w003','w004','w005','w006','w007','w008','w009','w010']\n",
    "color = ['red','red','red','red','red','red','red','red','red','red']\n",
    "\n",
    "#append created columns to blank dataframe\n",
    "red_df['wine_id'] = wine_id\n",
    "red_df['color'] = color\n",
    "red_df['fixed_acidity'] = fixed_acidity\n",
    "red_df['volatile_acidity'] = volatile_acidity\n",
    "red_df['citric_acid'] = citric_acid\n",
    "red_df['residual_sugar'] = residual_sugar\n",
    "red_df['chlorides'] = chlorides\n",
    "red_df['free_sulfur_dioxide'] = free_sulfur_dioxide\n",
    "red_df['total_sulfur_dioxide'] = total_sulfur_dioxide\n",
    "red_df['density'] = density\n",
    "red_df['pH'] = pH\n",
    "red_df['sulphates'] = sulphates\n",
    "red_df['alcohol'] = alcohol\n"
   ]
  },
  {
   "cell_type": "markdown",
   "id": "690f9672",
   "metadata": {},
   "source": [
    "# Create white wine file "
   ]
  },
  {
   "cell_type": "code",
   "execution_count": 14,
   "id": "f2d4ac34",
   "metadata": {},
   "outputs": [
    {
     "data": {
      "text/plain": [
       "[8.1, 11.0, 6.7, 9.5, 11.6, 10.3, 11.0, 7.2, 12.6, 7.6]"
      ]
     },
     "execution_count": 14,
     "metadata": {},
     "output_type": "execute_result"
    }
   ],
   "source": [
    "#create fixed acidity values\n",
    "fixed_acidity = []\n",
    "for x in range(10):\n",
    "    value = round(random.uniform(5.2, 12.6), 1)\n",
    "    fixed_acidity.append(value)\n",
    "\n",
    "fixed_acidity"
   ]
  },
  {
   "cell_type": "code",
   "execution_count": 15,
   "id": "ca60dc91",
   "metadata": {},
   "outputs": [
    {
     "data": {
      "text/plain": [
       "[0.773, 0.472, 0.703, 0.77, 0.503, 0.341, 0.777, 0.342, 0.749, 0.514]"
      ]
     },
     "execution_count": 15,
     "metadata": {},
     "output_type": "execute_result"
    }
   ],
   "source": [
    "#create volatile_acidity values\n",
    "volatile_acidity = []\n",
    "for x in range(10):\n",
    "    value = round(random.uniform(.16, .86), 3)\n",
    "    volatile_acidity.append(value)\n",
    "    \n",
    "volatile_acidity"
   ]
  },
  {
   "cell_type": "code",
   "execution_count": 16,
   "id": "daee31c1",
   "metadata": {},
   "outputs": [
    {
     "data": {
      "text/plain": [
       "[0.3, 0.76, 0.78, 0.83, 0.81, 0.7, 0.54, 0.34, 0.05, 0.76]"
      ]
     },
     "execution_count": 16,
     "metadata": {},
     "output_type": "execute_result"
    }
   ],
   "source": [
    "#create citric_acid values\n",
    "citric_acid = []\n",
    "for x in range(10):\n",
    "    value = round(random.uniform(0, .9),2)\n",
    "    citric_acid.append(value)\n",
    "\n",
    "citric_acid"
   ]
  },
  {
   "cell_type": "code",
   "execution_count": 17,
   "id": "1e33d56b",
   "metadata": {},
   "outputs": [
    {
     "data": {
      "text/plain": [
       "[1.2, 6.2, 4.1, 8.4, 10.0, 10.1, 7.8, 4.8, 6.5, 5.2]"
      ]
     },
     "execution_count": 17,
     "metadata": {},
     "output_type": "execute_result"
    }
   ],
   "source": [
    "#create residual_sugar values\n",
    "residual_sugar = []\n",
    "for x in range(10):\n",
    "    value = round(random.uniform(1.1, 10.6),1)\n",
    "    residual_sugar.append(value)\n",
    "\n",
    "residual_sugar"
   ]
  },
  {
   "cell_type": "code",
   "execution_count": 18,
   "id": "edaff168",
   "metadata": {},
   "outputs": [
    {
     "data": {
      "text/plain": [
       "[0.045, 0.035, 0.027, 0.069, 0.056, 0.081, 0.068, 0.062, 0.063, 0.035]"
      ]
     },
     "execution_count": 18,
     "metadata": {},
     "output_type": "execute_result"
    }
   ],
   "source": [
    "#create chlorides values\n",
    "chlorides = []\n",
    "for x in range(10):\n",
    "    value = round(random.uniform(0.01, 0.09),3)\n",
    "    chlorides.append(value)\n",
    "\n",
    "chlorides"
   ]
  },
  {
   "cell_type": "code",
   "execution_count": 19,
   "id": "6089ec42",
   "metadata": {},
   "outputs": [
    {
     "data": {
      "text/plain": [
       "[17, 26, 28, 18, 24, 15, 13, 7, 20, 19]"
      ]
     },
     "execution_count": 19,
     "metadata": {},
     "output_type": "execute_result"
    }
   ],
   "source": [
    "#create free_sulfur_dioxide values\n",
    "free_sulfur_dioxide = []\n",
    "for x in range(10):\n",
    "    value = round(random.uniform(5,35))\n",
    "    free_sulfur_dioxide.append(value)\n",
    "\n",
    "free_sulfur_dioxide"
   ]
  },
  {
   "cell_type": "code",
   "execution_count": 20,
   "id": "8ec74c1b",
   "metadata": {},
   "outputs": [
    {
     "data": {
      "text/plain": [
       "[126, 95, 39, 22, 50, 91, 63, 123, 79, 128]"
      ]
     },
     "execution_count": 20,
     "metadata": {},
     "output_type": "execute_result"
    }
   ],
   "source": [
    "#create total_sulfur_dioxide values\n",
    "total_sulfur_dioxide = []\n",
    "for x in range(10):\n",
    "    value = round(random.uniform(13, 180))\n",
    "    total_sulfur_dioxide.append(value)\n",
    "\n",
    "total_sulfur_dioxide"
   ]
  },
  {
   "cell_type": "code",
   "execution_count": 21,
   "id": "9652b283",
   "metadata": {},
   "outputs": [
    {
     "data": {
      "text/plain": [
       "[0.9984, 0.9967, 0.9989, 0.9972, 0.9953, 0.9957, 0.9988, 0.9956, 0.9986, 0.997]"
      ]
     },
     "execution_count": 21,
     "metadata": {},
     "output_type": "execute_result"
    }
   ],
   "source": [
    "#create density values\n",
    "density = []\n",
    "for x in range(10):\n",
    "    value = round(random.uniform(0.995, 1),4)\n",
    "    density.append(value)\n",
    "density"
   ]
  },
  {
   "cell_type": "code",
   "execution_count": 22,
   "id": "f069d277",
   "metadata": {},
   "outputs": [
    {
     "data": {
      "text/plain": [
       "[3.26, 3.06, 3.29, 3.53, 3.65, 3.45, 3.9, 3.24, 3.43, 3.93]"
      ]
     },
     "execution_count": 22,
     "metadata": {},
     "output_type": "execute_result"
    }
   ],
   "source": [
    "#create pH values\n",
    "pH = []\n",
    "for x in range(10):\n",
    "    value = round(random.uniform(2.88, 4),2)\n",
    "    pH.append(value)\n",
    "pH"
   ]
  },
  {
   "cell_type": "code",
   "execution_count": 23,
   "id": "9d3cbae9",
   "metadata": {},
   "outputs": [
    {
     "data": {
      "text/plain": [
       "[1.06, 0.74, 1.03, 0.51, 0.82, 0.98, 0.75, 0.68, 0.78, 0.57]"
      ]
     },
     "execution_count": 23,
     "metadata": {},
     "output_type": "execute_result"
    }
   ],
   "source": [
    "#create sulphates values\n",
    "sulphates = []\n",
    "for x in range(10):\n",
    "    value = round(random.uniform(.5, 1.2),2)\n",
    "    sulphates.append(value)\n",
    "sulphates"
   ]
  },
  {
   "cell_type": "code",
   "execution_count": 24,
   "id": "5bb0a2f9",
   "metadata": {},
   "outputs": [
    {
     "data": {
      "text/plain": [
       "[13.1, 11.4, 11.2, 12.2, 12.5, 9.4, 12.3, 10.9, 9.2, 12.9]"
      ]
     },
     "execution_count": 24,
     "metadata": {},
     "output_type": "execute_result"
    }
   ],
   "source": [
    "#create alcohol values\n",
    "alcohol = []\n",
    "for x in range(10):\n",
    "    value = round(random.uniform(9.1, 13.5),1)\n",
    "    alcohol.append(value)\n",
    "\n",
    "alcohol"
   ]
  },
  {
   "cell_type": "markdown",
   "id": "0b97f294",
   "metadata": {},
   "source": [
    "## Create white wine dataframe and append calculated fields"
   ]
  },
  {
   "cell_type": "code",
   "execution_count": 25,
   "id": "10d1ef89",
   "metadata": {},
   "outputs": [],
   "source": [
    "#create blank dataframe\n",
    "white_df = pd.DataFrame()\n",
    "\n",
    "#create wine_id and color attributes\n",
    "wine_id = ['w011', 'w012','w013','w014','w015','w016','w017','w018','w019','w020']\n",
    "color = ['white','white','white','white','white','white','white','white','white','white']\n",
    "\n",
    "#append created columns to blank dataframe\n",
    "white_df['wine_id'] = wine_id\n",
    "white_df['color'] = color\n",
    "white_df['fixed_acidity'] = fixed_acidity\n",
    "white_df['volatile_acidity'] = volatile_acidity\n",
    "white_df['citric_acid'] = citric_acid\n",
    "white_df['residual_sugar'] = residual_sugar\n",
    "white_df['chlorides'] = chlorides\n",
    "white_df['free_sulfur_dioxide'] = free_sulfur_dioxide\n",
    "white_df['total_sulfur_dioxide'] = total_sulfur_dioxide\n",
    "white_df['density'] = density\n",
    "white_df['pH'] = pH\n",
    "white_df['sulphates'] = sulphates\n",
    "white_df['alcohol'] = alcohol\n"
   ]
  },
  {
   "cell_type": "code",
   "execution_count": 26,
   "id": "352c729c",
   "metadata": {},
   "outputs": [],
   "source": [
    "#create merged dataframe\n",
    "sampleset_df = red_df.append(white_df)"
   ]
  },
  {
   "cell_type": "code",
   "execution_count": 27,
   "id": "dcc7ae5b",
   "metadata": {},
   "outputs": [],
   "source": [
    "#export to csv file\n",
    "sampleset_df.to_csv('winequality-sample-set.csv', index=False)"
   ]
  },
  {
   "cell_type": "code",
   "execution_count": null,
   "id": "1eff65d8",
   "metadata": {},
   "outputs": [],
   "source": []
  }
 ],
 "metadata": {
  "kernelspec": {
   "display_name": "Python 3",
   "language": "python",
   "name": "python3"
  },
  "language_info": {
   "codemirror_mode": {
    "name": "ipython",
    "version": 3
   },
   "file_extension": ".py",
   "mimetype": "text/x-python",
   "name": "python",
   "nbconvert_exporter": "python",
   "pygments_lexer": "ipython3",
   "version": "3.8.8"
  }
 },
 "nbformat": 4,
 "nbformat_minor": 5
}
